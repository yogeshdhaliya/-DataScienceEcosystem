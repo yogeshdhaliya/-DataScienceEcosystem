{
  "metadata": {
    "language_info": {
      "codemirror_mode": {
        "name": "python",
        "version": 3
      },
      "file_extension": ".py",
      "mimetype": "text/x-python",
      "name": "python",
      "nbconvert_exporter": "python",
      "pygments_lexer": "ipython3",
      "version": "3.8"
    },
    "kernelspec": {
      "name": "python",
      "display_name": "Python (Pyodide)",
      "language": "python"
    }
  },
  "nbformat_minor": 4,
  "nbformat": 4,
  "cells": [
    {
      "cell_type": "markdown",
      "source": "# Data Science Tools and Ecosystem",
      "metadata": {}
    },
    {
      "cell_type": "code",
      "source": "",
      "metadata": {},
      "execution_count": null,
      "outputs": []
    },
    {
      "cell_type": "markdown",
      "source": "This notebook provides a comprehensive summary of the essential tools and ecosystem in Data Science. It covers a wide range of topics, including data cleaning, data visualization, statistical analysis, machine learning, and deep learning. Each section includes a brief introduction to the topic, its importance in Data Science, and a list of popular tools used for the task. This notebook is designed for both beginners and experienced data scientists who want to keep up-to-date with the latest trends and tools in the field of Data Science. By the end of this notebook, you will have a solid understanding of the essential tools and ecosystem required for effective Data Science.",
      "metadata": {}
    },
    {
      "cell_type": "markdown",
      "source": "Some of the popular languages that Data Scientists use are:\n\n1. Python\n2. R\n3. SQL\n4. Java\n5. Scala\n6. MATLAB\n7. SAS\n8. Julia\n9. Perl\n10. C/C++",
      "metadata": {}
    },
    {
      "cell_type": "markdown",
      "source": "Some of the commonly used libraries used by Data Scientists include:\n\n1. NumPy\n2. Pandas\n3. Matplotlib\n4. Seaborn\n5. Scikit-learn\n6. TensorFlow\n7. PyTorch\n8. Keras\n9. SciPy\n10. NLTK\n11. Gensim\n12. XGBoost\n13. LightGBM\n14. CatBoost\n15. Statsmodels",
      "metadata": {}
    },
    {
      "cell_type": "markdown",
      "source": "| Data Science Tools|\n|-------------------|\n| Jupyter Notebook  |\n| RStudio           |\n| Spyder            | \n\nAbove is a single column table that includes the header \"Data Science Tools\" and three open source tools used in data science: Jupyter Notebook, RStudio, and Spyder.",
      "metadata": {}
    },
    {
      "cell_type": "markdown",
      "source": "### Below are a few examples of evaluating arithmetic expressions in Python ",
      "metadata": {}
    },
    {
      "cell_type": "code",
      "source": "3+32099+37",
      "metadata": {},
      "execution_count": null,
      "outputs": [
        {
          "execution_count": 2,
          "output_type": "execute_result",
          "data": {
            "text/plain": "32139"
          },
          "metadata": {}
        }
      ]
    },
    {
      "cell_type": "code",
      "source": "377289*387",
      "metadata": {
        "trusted": true
      },
      "execution_count": 3,
      "outputs": [
        {
          "execution_count": 3,
          "output_type": "execute_result",
          "data": {
            "text/plain": "146010843"
          },
          "metadata": {}
        }
      ]
    },
    {
      "cell_type": "code",
      "source": "8728982/8919",
      "metadata": {
        "trusted": true
      },
      "execution_count": 4,
      "outputs": [
        {
          "execution_count": 4,
          "output_type": "execute_result",
          "data": {
            "text/plain": "978.6951451956497"
          },
          "metadata": {}
        }
      ]
    },
    {
      "cell_type": "code",
      "source": "1789279**2",
      "metadata": {
        "trusted": true
      },
      "execution_count": 6,
      "outputs": [
        {
          "execution_count": 6,
          "output_type": "execute_result",
          "data": {
            "text/plain": "3201519339841"
          },
          "metadata": {}
        }
      ]
    },
    {
      "cell_type": "markdown",
      "source": "# This is a simple arithmetic expression to multiply then add integers",
      "metadata": {}
    },
    {
      "cell_type": "code",
      "source": "result = (3*4) + 5\nprint(result)",
      "metadata": {
        "trusted": true
      },
      "execution_count": 7,
      "outputs": [
        {
          "name": "stdout",
          "text": "17\n",
          "output_type": "stream"
        }
      ]
    },
    {
      "cell_type": "markdown",
      "source": "# This will convert 200 minutes to hours by dividing by 60.",
      "metadata": {}
    },
    {
      "cell_type": "code",
      "source": "x = 200/60\nprint(x)",
      "metadata": {
        "trusted": true
      },
      "execution_count": 8,
      "outputs": [
        {
          "name": "stdout",
          "text": "3.3333333333333335\n",
          "output_type": "stream"
        }
      ]
    },
    {
      "cell_type": "markdown",
      "source": "Objectives:\n\n- List popular languages for Data Science and their features\n- Describe commonly used Data Science libraries and their functions\n- Introduce development environment open source tools used in data science\n- Provide examples of evaluating arithmetic expressions in Python\n- Illustrate the conversion of units of time in Python",
      "metadata": {}
    },
    {
      "cell_type": "markdown",
      "source": "## Author\n\nYogesh Dhaliya",
      "metadata": {}
    }
  ]
}